{
 "cells": [
  {
   "cell_type": "markdown",
   "metadata": {},
   "source": [
    "## Training Neural Networks\n",
    "### underfitting vs. overfitting\n",
    "- underfitting - killing Godzilla w/ a flyswatter\n",
    "\t- too simple\n",
    "\t- error to (high) bias\n",
    "- overfitting - kill a fly with a bazooka\n",
    "\t- too specific, fail to generalize\n",
    "\t- error to (high) variance\n",
    "\n",
    "### early stopping\n",
    "- do gradient descent until then testing error stops decreasing and starts increasing. At that moment, stop the algorithm & epoch."
   ]
  },
  {
   "cell_type": "code",
   "execution_count": null,
   "metadata": {},
   "outputs": [],
   "source": []
  }
 ],
 "metadata": {
  "kernelspec": {
   "display_name": "Python [conda env:anaconda3]",
   "language": "python",
   "name": "conda-env-anaconda3-py"
  },
  "language_info": {
   "codemirror_mode": {
    "name": "ipython",
    "version": 3
   },
   "file_extension": ".py",
   "mimetype": "text/x-python",
   "name": "python",
   "nbconvert_exporter": "python",
   "pygments_lexer": "ipython3",
   "version": "3.6.4"
  }
 },
 "nbformat": 4,
 "nbformat_minor": 2
}
