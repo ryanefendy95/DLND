{
 "cells": [
  {
   "cell_type": "markdown",
   "metadata": {},
   "source": [
    "## Training Neural Networks\n",
    "Gradient = slope (steepest, descent the most)\n",
    "### underfitting vs. overfitting\n",
    "- underfitting - killing Godzilla w/ a flyswatter\n",
    "\t- too simple\n",
    "\t- error to (high) bias\n",
    "- overfitting - kill a fly with a bazooka\n",
    "\t- too specific, fail to generalize\n",
    "\t- error to (high) variance\n",
    "### early stopping\n",
    "- do gradient descent until then testing error stops decreasing and starts increasing. At that moment, stop the algorithm & epoch.\n",
    "### regularization\n",
    "- large coefficients -> overfitting\n",
    "- penalize large weights/punish high coefficients\n",
    "\t- how? add a term to error function \n",
    "- L1 vs L2\n",
    "\t- L1: sparse vectors, `(1, 0, 0, 1, 0)` good for feature selection\n",
    "\t- L2: make weights in vector homogeneously small. `0.5, 0.3, -0.2, 0.4, 0.1` better for training models (use more often).\n",
    "### dropout\n",
    "- some nodes have higher weights and gets to train more than others. \n",
    "- solution? randomly turn off nodes so the rest can train\n",
    "### local minima\n",
    "- random restart\n",
    "- momentum\n",
    "#### vanishing gradient\n",
    "### other activation functions\n",
    "- hyperbolic tangent function\n",
    "- rectified linear unit (ReLU)\n",
    "    - maximum between x and zero\n",
    "### batch vs stochastic gradient descent\n",
    "- take small subsets of the data (split data into several batches)\n",
    "- run through the NN, calculate the gradient of the error functions\n",
    "- update weights (take a step into that direction)\n",
    "### learning rate decay"
   ]
  },
  {
   "cell_type": "code",
   "execution_count": null,
   "metadata": {},
   "outputs": [],
   "source": []
  }
 ],
 "metadata": {
  "kernelspec": {
   "display_name": "Python [conda env:anaconda3]",
   "language": "python",
   "name": "conda-env-anaconda3-py"
  },
  "language_info": {
   "codemirror_mode": {
    "name": "ipython",
    "version": 3
   },
   "file_extension": ".py",
   "mimetype": "text/x-python",
   "name": "python",
   "nbconvert_exporter": "python",
   "pygments_lexer": "ipython3",
   "version": "3.6.4"
  }
 },
 "nbformat": 4,
 "nbformat_minor": 2
}
