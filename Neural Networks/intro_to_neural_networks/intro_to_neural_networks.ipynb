{
 "cells": [
  {
   "cell_type": "markdown",
   "metadata": {},
   "source": [
    "### Perceptron Trick"
   ]
  },
  {
   "cell_type": "code",
   "execution_count": 17,
   "metadata": {},
   "outputs": [
    {
     "name": "stdout",
     "output_type": "stream",
     "text": [
      "22\n",
      "17.799999999999997\n",
      "18.0\n"
     ]
    }
   ],
   "source": [
    "x1 = 4\n",
    "x2 = 5\n",
    "\n",
    "def line(x1, x2):\n",
    "    return 3*x1 + 4*x2 - 10\n",
    "\n",
    "def line2(x1, x2):\n",
    "    return 2.6*x1 + 3.5*x2 - 10.1\n",
    "\n",
    "def line3(x1, x2, bias=1, alpha=0.1):\n",
    "    return (3 - x1 * alpha) *x1 + (4 - x2 * alpha)*x2 - (10 - bias * alpha)\n",
    "\n",
    "print(line(x1, x2))\n",
    "print(line2(x1, x2))\n",
    "print(line3(x1, x2))"
   ]
  },
  {
   "cell_type": "code",
   "execution_count": 26,
   "metadata": {},
   "outputs": [
    {
     "name": "stdout",
     "output_type": "stream",
     "text": [
      "-3\n",
      "-2.9000000000000004\n"
     ]
    }
   ],
   "source": [
    "def line4(x1, x2, bias=1, alpha=0.1):\n",
    "    return (3 + x1 * alpha) *x1 + (4 + x2 * alpha)*x2 - (10 + bias * alpha)\n",
    "\n",
    "x1, x2 = 1, 1\n",
    "print(line(x1, x2))\n",
    "print(line4(x1, x2))"
   ]
  },
  {
   "cell_type": "code",
   "execution_count": 19,
   "metadata": {},
   "outputs": [
    {
     "name": "stdout",
     "output_type": "stream",
     "text": [
      "-2.91\n",
      "-3.0100000000000016\n",
      "-3.110000000000001\n",
      "-3.210000000000001\n",
      "-3.3100000000000005\n",
      "-3.41\n",
      "-3.5100000000000016\n",
      "-3.610000000000001\n",
      "-3.710000000000001\n",
      "-3.8100000000000005\n"
     ]
    }
   ],
   "source": [
    "for i in range(1, 11):\n",
    "    print(line4(x1, x2, alpha+i))"
   ]
  },
  {
   "cell_type": "code",
   "execution_count": null,
   "metadata": {},
   "outputs": [],
   "source": [
    "y = \n",
    "[1. 1. 1. 1. 1. 1. 1. 1. 1. 1. 1. 1. 1. 1. 1. 1. 1. 1. 1. 1. 1. 1. 1. 1.\n",
    " 1. 1. 1. 1. 1. 1. 1. 1. 1. 1. 1. 1. 1. 1. 1. 1. 1. 1. 1. 1. 1. 1. 1. 1.\n",
    " 1. 1. 0. 0. 0. 0. 0. 0. 0. 0. 0. 0. 0. 0. 0. 0. 0. 0. 0. 0. 0. 0. 0. 0.\n",
    " 0. 0. 0. 0. 0. 0. 0. 0. 0. 0. 0. 0. 0. 0. 0. 0. 0. 0. 0. 0. 0. 0. 0. 0.\n",
    " 0. 0. 0. 0.]\n",
    "W = [[0.37454012]\n",
    " [0.95071431]]\n",
    "[[0.37454012]\n",
    " [0.95071431]]\n",
    "[[0.37454012]\n",
    " [0.95071431]]\n",
    "[[0.37454012]\n",
    " [0.95071431]]\n",
    "[[0.37454012]\n",
    " [0.95071431]]\n",
    "[[0.37454012]\n",
    " [0.95071431]]\n",
    "[[0.37454012]\n",
    " [0.95071431]]\n",
    "[[0.37454012]\n",
    " [0.95071431]]\n",
    "[[0.37454012]\n",
    " [0.95071431]]\n",
    "[[0.37454012]\n",
    " [0.95071431]]\n",
    "[[0.37454012]\n",
    " [0.95071431]]\n",
    "[[0.37454012]\n",
    " [0.95071431]]\n",
    "[[0.37454012]\n",
    " [0.95071431]]\n",
    "[[0.37454012]\n",
    " [0.95071431]]\n",
    "[[0.37454012]\n",
    " [0.95071431]]\n",
    "[[0.37454012]\n",
    " [0.95071431]]\n",
    "[[0.37454012]\n",
    " [0.95071431]]\n",
    "[[0.37454012]\n",
    " [0.95071431]]\n",
    "[[0.37454012]\n",
    " [0.95071431]]\n",
    "[[0.37454012]\n",
    " [0.95071431]]\n",
    "[[0.37454012]\n",
    " [0.95071431]]\n",
    "[[0.37454012]\n",
    " [0.95071431]]\n",
    "[[0.37454012]\n",
    " [0.95071431]]\n",
    "[[0.37454012]\n",
    " [0.95071431]]\n",
    "[[0.37454012]\n",
    " [0.95071431]]\n",
    "\n",
    "b = 1.731993941811405\n",
    "1.731993941811405\n",
    "1.731993941811405\n",
    "1.731993941811405\n",
    "1.731993941811405\n",
    "1.731993941811405\n",
    "1.731993941811405\n",
    "1.731993941811405\n",
    "1.731993941811405\n",
    "1.731993941811405"
   ]
  },
  {
   "cell_type": "code",
   "execution_count": null,
   "metadata": {},
   "outputs": [],
   "source": [
    "import numpy as np\n",
    "# Setting the random seed, feel free to change it and see different solutions.\n",
    "np.random.seed(42)\n",
    "\n",
    "'''\n",
    "Recall that the perceptron step works as follows. \n",
    "For a point with coordinates (p,q), label y, and prediction given by the equation y^ = step(w1x1 + w2x2 + b) or Wx+b\n",
    "\n",
    "If the point is correctly classified, do nothing. \n",
    "If the point is classified positive, but it has a negative label, change w -> w - αx\n",
    "If the point is classified negative, but it has a positive label, change w -> w + αx\n",
    "'''\n",
    "\n",
    "def stepFunction(t):\n",
    "    if t >= 0:\n",
    "        return 1\n",
    "    return 0\n",
    "\n",
    "def prediction(X, W, b):\n",
    "    return stepFunction((np.matmul(X,W)+b)[0])\n",
    "\n",
    "# Perceptron trick - separate data\n",
    "# The function should receive as inputs the data X, the labels y,\n",
    "# the weights W (as an array), and the bias b,\n",
    "# update the weights and bias W, b, according to the perceptron algorithm,\n",
    "# and return W and b.\n",
    "def perceptronStep(X, y, W, b, learn_rate = 0.01):\n",
    "    for i in range(len(X)):\n",
    "        y_hat = prediction(X[i], W, b)\n",
    "        if y[i]-y_hat == 1:\n",
    "            for j in range(len(X[i])):\n",
    "                W[j] += learn_rate * X[i][j]\n",
    "            b += learn_rate\n",
    "        elif y[i]-y_hat == -1:\n",
    "            for j in range(len(X[i])):\n",
    "                W[j] -= learn_rate * X[i][j]\n",
    "            b -= learn_rate\n",
    "    return W, b\n",
    "    \n",
    "# This function runs the perceptron algorithm repeatedly on the dataset,\n",
    "# and returns a few of the boundary lines obtained in the iterations,\n",
    "# for plotting purposes.\n",
    "# Feel free to play with the learning rate and the num_epochs,\n",
    "# and see your results plotted below.\n",
    "def trainPerceptronAlgorithm(X, y, learn_rate = 0.01, num_epochs = 25):\n",
    "    x_min, x_max = min(X.T[0]), max(X.T[0])\n",
    "    y_min, y_max = min(X.T[1]), max(X.T[1])\n",
    "    W = np.array(np.random.rand(2,1))\n",
    "    b = np.random.rand(1)[0] + x_max\n",
    "    # These are the solution lines that get plotted below.\n",
    "    boundary_lines = []\n",
    "    for i in range(num_epochs):\n",
    "        # In each epoch, we apply the perceptron step.\n",
    "        W, b = perceptronStep(X, y, W, b, learn_rate)\n",
    "        boundary_lines.append((-W[0]/W[1], -b/W[1]))\n",
    "    return boundary_lines\n"
   ]
  },
  {
   "cell_type": "markdown",
   "metadata": {},
   "source": [
    "### Discrete vs Continuous"
   ]
  },
  {
   "cell_type": "code",
   "execution_count": 3,
   "metadata": {},
   "outputs": [
    {
     "name": "stdout",
     "output_type": "stream",
     "text": [
      "0.5\n",
      "0.9999999943972036\n",
      "8.315280276641321e-07\n",
      "0.5\n"
     ]
    }
   ],
   "source": [
    "import math\n",
    "\n",
    "def sigmoid(x):\n",
    "    return 1 / (1 + math.exp(-x))\n",
    "\n",
    "def prediction(x):\n",
    "    return sigmoid(4 * x[0] + 5 * x[1] - 9)\n",
    "\n",
    "inputs = [(1,1), (2,4), (5,-5), (-4,5)]\n",
    "for input in inputs:\n",
    "    print(prediction(input))"
   ]
  },
  {
   "cell_type": "markdown",
   "metadata": {},
   "source": [
    "### Numpy Practice"
   ]
  },
  {
   "cell_type": "code",
   "execution_count": 14,
   "metadata": {},
   "outputs": [],
   "source": [
    "import numpy as np\n",
    "\n",
    "# http://ml-cheatsheet.readthedocs.io/en/latest/linear_algebra.html#scalar-operations"
   ]
  },
  {
   "cell_type": "code",
   "execution_count": 15,
   "metadata": {},
   "outputs": [
    {
     "name": "stdout",
     "output_type": "stream",
     "text": [
      "Error 0.03999999999999998 Prediction 1.0\n",
      "Error 0.025599999999999973 Prediction 0.96\n",
      "Error 0.01638399999999997 Prediction 0.9279999999999999\n",
      "Error 0.010485759999999986 Prediction 0.9024\n",
      "Error 0.0067108863999999985 Prediction 0.88192\n",
      "Error 0.004294967296000005 Prediction 0.8655360000000001\n",
      "Error 0.0027487790694400056 Prediction 0.8524288000000001\n",
      "Error 0.0017592186044416036 Prediction 0.8419430400000001\n",
      "Error 0.0011258999068426293 Prediction 0.8335544320000001\n",
      "Error 0.0007205759403792803 Prediction 0.8268435456000001\n",
      "Error 0.0004611686018427404 Prediction 0.8214748364800001\n",
      "Error 0.0002951479051793546 Prediction 0.8171798691840001\n",
      "Error 0.00018889465931478573 Prediction 0.8137438953472\n",
      "Error 0.00012089258196146188 Prediction 0.81099511627776\n",
      "Error 7.737125245533561e-05 Prediction 0.808796093022208\n",
      "Error 4.9517601571414475e-05 Prediction 0.8070368744177664\n",
      "Error 3.1691265005705516e-05 Prediction 0.8056294995342131\n",
      "Error 2.028240960365133e-05 Prediction 0.8045035996273705\n",
      "Error 1.2980742146336532e-05 Prediction 0.8036028797018964\n",
      "Error 8.307674973655636e-06 Prediction 0.8028823037615171\n"
     ]
    }
   ],
   "source": [
    "### neural network\n",
    "\n",
    "learning_rate = 0.1 # alpha\n",
    "weight = 0.5\n",
    "input = 2\n",
    "goal_pred = 0.8\n",
    "\n",
    "for _ in range(20):\n",
    "    pred = input * weight\n",
    "    error = (pred - goal_pred) ** 2\n",
    "    derivative = pred - goal_pred # gradient descent\n",
    "    weight -= learning_rate * derivative\n",
    "    \n",
    "    print(\"Error\", str(error), \"Prediction\", str(pred))"
   ]
  },
  {
   "cell_type": "markdown",
   "metadata": {},
   "source": [
    "### Neural Network Architecture"
   ]
  },
  {
   "cell_type": "code",
   "execution_count": 4,
   "metadata": {},
   "outputs": [
    {
     "name": "stdout",
     "output_type": "stream",
     "text": [
      "0.9168273035060777\n",
      "0.8807970779778823\n",
      "0.8021838885585818\n"
     ]
    }
   ],
   "source": [
    "def prediction(w1, w2, b):\n",
    "    return w1*0.4 + w2*0.6 + b\n",
    "\n",
    "print(sigmoid(prediction(2,6,-2)))\n",
    "print(sigmoid(prediction(3,5,-2.2)))\n",
    "print(sigmoid(prediction(5,4,-3)))"
   ]
  },
  {
   "cell_type": "code",
   "execution_count": null,
   "metadata": {},
   "outputs": [],
   "source": []
  }
 ],
 "metadata": {
  "kernelspec": {
   "display_name": "Python [conda env:py3]",
   "language": "python",
   "name": "conda-env-py3-py"
  },
  "language_info": {
   "codemirror_mode": {
    "name": "ipython",
    "version": 3
   },
   "file_extension": ".py",
   "mimetype": "text/x-python",
   "name": "python",
   "nbconvert_exporter": "python",
   "pygments_lexer": "ipython3",
   "version": "3.6.4"
  }
 },
 "nbformat": 4,
 "nbformat_minor": 2
}
